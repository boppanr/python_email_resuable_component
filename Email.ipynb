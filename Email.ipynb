{
 "cells": [
  {
   "cell_type": "code",
   "execution_count": 2,
   "id": "ab66be19-90ad-4872-84e9-2a60feea053f",
   "metadata": {},
   "outputs": [],
   "source": [
    "from email.mime.text import MIMEText\n",
    "from email.mime.multipart import MIMEMultipart\n",
    "from string import Template"
   ]
  },
  {
   "cell_type": "code",
   "execution_count": 3,
   "id": "bf900e71-9c85-40b1-8e83-15a4631831c5",
   "metadata": {},
   "outputs": [],
   "source": [
    "class EmailTemplate:\n",
    "    def __init__(self, subject_template, body_template):\n",
    "        self.subject_template = Template(subject_template)\n",
    "        self.body_template = Template(body_template)\n",
    "    \n",
    "    def render(self, **kwargs):\n",
    "        subject = self.subject_template.safe_substitute(**kwargs)\n",
    "        body = self.body_template.safe_substitute(**kwargs)\n",
    "        \n",
    "        msg = MIMEMultipart()\n",
    "        msg['Subject'] = subject\n",
    "        msg.attach(MIMEText(body, 'plain'))\n",
    "        \n",
    "        return msg"
   ]
  },
  {
   "cell_type": "code",
   "execution_count": 6,
   "id": "15b0ab02-8d37-4a53-a279-1b779eda3518",
   "metadata": {},
   "outputs": [
    {
     "name": "stdout",
     "output_type": "stream",
     "text": [
      "Content-Type: multipart/mixed; boundary=\"===============1306692574296211891==\"\n",
      "MIME-Version: 1.0\n",
      "Subject: Welcome to PadRam Reality, Customer!\n",
      "\n",
      "--===============1306692574296211891==\n",
      "Content-Type: text/plain; charset=\"us-ascii\"\n",
      "MIME-Version: 1.0\n",
      "Content-Transfer-Encoding: 7bit\n",
      "\n",
      "\n",
      "    Dear Customer,\n",
      "    \n",
      "    Welcome to PadRam Reality! We're excited to have you on board.\n",
      "    \n",
      "    Thanks & Regards,\n",
      "    The PadRam Reality Team\n",
      "    \n",
      "--===============1306692574296211891==--\n",
      "\n"
     ]
    }
   ],
   "source": [
    "# Create a template\n",
    "welcome_template = EmailTemplate(\n",
    "    subject_template=\"Welcome to ${company_name}, ${user_name}!\",\n",
    "    body_template=\"\"\"\n",
    "    Dear ${user_name},\n",
    "    \n",
    "    Welcome to ${company_name}! We're excited to have you on board.\n",
    "    \n",
    "    Thanks & Regards,\n",
    "    The ${company_name} Team\n",
    "    \"\"\"\n",
    ")\n",
    "\n",
    "# Render the template with specific values\n",
    "email_message = welcome_template.render(\n",
    "    company_name=\"PadRam Reality\",\n",
    "    user_name=\"Customer\"\n",
    ")\n",
    "\n",
    "# Print the result\n",
    "print(email_message.as_string())"
   ]
  },
  {
   "cell_type": "code",
   "execution_count": null,
   "id": "d6fdfe9b-11f8-4ddb-9ecc-b57c81936479",
   "metadata": {},
   "outputs": [],
   "source": []
  }
 ],
 "metadata": {
  "kernelspec": {
   "display_name": "Python 3 (ipykernel)",
   "language": "python",
   "name": "python3"
  },
  "language_info": {
   "codemirror_mode": {
    "name": "ipython",
    "version": 3
   },
   "file_extension": ".py",
   "mimetype": "text/x-python",
   "name": "python",
   "nbconvert_exporter": "python",
   "pygments_lexer": "ipython3",
   "version": "3.11.7"
  }
 },
 "nbformat": 4,
 "nbformat_minor": 5
}
